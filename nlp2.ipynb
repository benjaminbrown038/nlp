{
  "nbformat": 4,
  "nbformat_minor": 0,
  "metadata": {
    "colab": {
      "provenance": []
    },
    "kernelspec": {
      "name": "python3",
      "display_name": "Python 3"
    },
    "language_info": {
      "name": "python"
    }
  },
  "cells": [
    {
      "cell_type": "markdown",
      "source": [
        "# NLP\n",
        "\n",
        "### 1. Pretraining\n",
        "\n",
        "##### 1. Casual Language Modeling\n",
        "\n",
        "##### 2. Masked Language Modeling\n",
        "\n",
        "##### 3. Denoising / Span Interuption\n",
        "\n",
        "##### 4. Next Sentence Prediction / Sentence Order Prediciton\n",
        "\n",
        "##### 5.\n",
        "\n",
        "\n",
        "### 2. Post Training / Fine Tuning\n",
        "\n",
        "##### 1. Full Fine Tuning\n",
        "\n",
        "##### 2. Parameter Efficient Fine Tuning\n",
        "\n",
        "###### 1. LoRA (Low Rank Adaptation)\n",
        "\n",
        "###### 2. Prefix Tuning / Prompt Tuning\n",
        "\n",
        "###### 3. Adapters\n",
        "\n",
        "\n",
        "##### 3. Instruction Fine Tuning\n",
        "\n",
        "##### 4.\n",
        "\n",
        "##### 5.\n",
        "\n",
        "\n",
        "### 3. Model Characterization\n",
        "\n",
        "##### 1.\n",
        "\n",
        "##### 2.\n",
        "\n",
        "##### 3.\n",
        "\n",
        "##### 4.\n",
        "\n",
        "##### 5.\n",
        "\n"
      ],
      "metadata": {
        "id": "TPfYJDpNiEJ5"
      }
    },
    {
      "cell_type": "markdown",
      "source": [],
      "metadata": {
        "id": "AmmAj8OLiEMt"
      }
    },
    {
      "cell_type": "markdown",
      "source": [],
      "metadata": {
        "id": "gjbZXS5CiEQG"
      }
    },
    {
      "cell_type": "code",
      "source": [],
      "metadata": {
        "id": "4h7jif9CiEW5"
      },
      "execution_count": null,
      "outputs": []
    },
    {
      "cell_type": "code",
      "source": [],
      "metadata": {
        "id": "SEzZIA4wiEcY"
      },
      "execution_count": null,
      "outputs": []
    },
    {
      "cell_type": "markdown",
      "source": [],
      "metadata": {
        "id": "5F3M9YJQiEnU"
      }
    },
    {
      "cell_type": "code",
      "source": [],
      "metadata": {
        "id": "Izo2h7kDiEsy"
      },
      "execution_count": null,
      "outputs": []
    },
    {
      "cell_type": "code",
      "source": [],
      "metadata": {
        "id": "sO2fA7KpiFVr"
      },
      "execution_count": null,
      "outputs": []
    },
    {
      "cell_type": "markdown",
      "source": [],
      "metadata": {
        "id": "j5e68bYdiFqN"
      }
    },
    {
      "cell_type": "code",
      "source": [],
      "metadata": {
        "id": "fn3hsGIZiFw-"
      },
      "execution_count": null,
      "outputs": []
    },
    {
      "cell_type": "markdown",
      "source": [],
      "metadata": {
        "id": "PxDEnuRPiF2d"
      }
    },
    {
      "cell_type": "code",
      "source": [],
      "metadata": {
        "id": "HLP3K-0biF7p"
      },
      "execution_count": null,
      "outputs": []
    }
  ]
}